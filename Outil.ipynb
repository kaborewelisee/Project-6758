{
 "cells": [
  {
   "cell_type": "code",
   "execution_count": 1,
   "id": "f3fb2b2f",
   "metadata": {},
   "outputs": [],
   "source": [
    "import ipywidgets as widgets\n",
    "import seaborn as sns\n",
    "from matplotlib import pyplot as plt\n",
    "import json\n",
    "import pandas as pd\n",
    "from hockey_rink import NWHLRink\n",
    "from IPython.display import display\n",
    "from tabulate import tabulate"
   ]
  },
  {
   "cell_type": "code",
   "execution_count": 2,
   "id": "49ea85bd",
   "metadata": {},
   "outputs": [],
   "source": [
    "\n",
    "df = pd.read_csv('data/df.csv',low_memory=False)\n",
    "df=df.sort_values('game_id')\n",
    "df['seasonid'] = df['game_id'].astype(str).str[:4]\n",
    "df['type'] = df['game_id'].astype(str).str[4:6]\n",
    "df[\"gameid\"] = df['game_id'].astype(str).str[6:10]\n",
    "df_sorted = df.sort_values(by=['game_id'])"
   ]
  },
  {
   "cell_type": "code",
   "execution_count": 3,
   "id": "1bf1c36d",
   "metadata": {
    "scrolled": true
   },
   "outputs": [],
   "source": [
    "season_slider = widgets.SelectionSlider(\n",
    "    options=df['seasonid'].unique(),\n",
    "    value=df['seasonid'].min(),\n",
    "    description='season',\n",
    "    disabled=False,\n",
    "    continuous_update=False,\n",
    "    orientation='horizontal',\n",
    "    readout=True\n",
    ")\n",
    "type_slider = widgets.SelectionSlider(\n",
    "    options=df['type'].unique(),\n",
    "    value=df['type'].min(),\n",
    "    description='type',\n",
    "    disabled=False,\n",
    "    continuous_update=False,\n",
    "    orientation='horizontal',\n",
    "    readout=True\n",
    ")\n",
    "id_slider = widgets.SelectionSlider(\n",
    "    options=df['gameid'].unique(),\n",
    "    value=df['gameid'].min(),\n",
    "    description='gameid',\n",
    "    disabled=False,\n",
    "    continuous_update=False,\n",
    "    orientation='horizontal',\n",
    "    step=1,\n",
    "    readout=True\n",
    ")\n",
    "df_sortednew=df_sorted.sort_values(by='event_idx')\n",
    "df_sortednew.loc[(df_sortednew.event_type.isin([\"SHOT\", \"GOAL\"]))]\n",
    "event_slider = widgets.SelectionSlider(\n",
    "    \n",
    "    options=df_sortednew['event_idx'].unique(),\n",
    "    value=df_sortednew['event_idx'].min(),\n",
    "    description='i',\n",
    "    disabled=False,\n",
    "    continuous_update=False,\n",
    "    orientation='horizontal',\n",
    "    readout=True\n",
    ")\n"
   ]
  },
  {
   "cell_type": "code",
   "execution_count": 4,
   "id": "358ac6ca",
   "metadata": {},
   "outputs": [
    {
     "data": {
      "application/vnd.jupyter.widget-view+json": {
       "model_id": "9169d122b2fd4c5abc61309e50908ff2",
       "version_major": 2,
       "version_minor": 0
      },
      "text/plain": [
       "SelectionSlider(continuous_update=False, description='season', options=('2016', '2017', '2018', '2019', '2020'…"
      ]
     },
     "metadata": {},
     "output_type": "display_data"
    },
    {
     "data": {
      "application/vnd.jupyter.widget-view+json": {
       "model_id": "4383eca3e9fd41bb96c8032a06c0eb6b",
       "version_major": 2,
       "version_minor": 0
      },
      "text/plain": [
       "SelectionSlider(continuous_update=False, description='type', options=('02', '03'), value='02')"
      ]
     },
     "metadata": {},
     "output_type": "display_data"
    },
    {
     "data": {
      "application/vnd.jupyter.widget-view+json": {
       "model_id": "dc2d4c5f5491475d8c179c48536c96c0",
       "version_major": 2,
       "version_minor": 0
      },
      "text/plain": [
       "SelectionSlider(continuous_update=False, description='gameid', options=('0001', '0002', '0003', '0004', '0005'…"
      ]
     },
     "metadata": {},
     "output_type": "display_data"
    }
   ],
   "source": [
    "display(season_slider)\n",
    "display(type_slider)\n",
    "display(id_slider)"
   ]
  },
  {
   "cell_type": "code",
   "execution_count": 5,
   "id": "77ccf83d",
   "metadata": {
    "scrolled": false
   },
   "outputs": [
    {
     "data": {
      "application/vnd.jupyter.widget-view+json": {
       "model_id": "32fd93ff1f4a40efa6b70b4fb966be11",
       "version_major": 2,
       "version_minor": 0
      },
      "text/plain": [
       "interactive(children=(SelectionSlider(continuous_update=False, description='season', options=('2016', '2017', …"
      ]
     },
     "metadata": {},
     "output_type": "display_data"
    },
    {
     "data": {
      "text/plain": [
       "<function __main__.slid(season_id, Type_id, game_id, event)>"
      ]
     },
     "execution_count": 5,
     "metadata": {},
     "output_type": "execute_result"
    }
   ],
   "source": [
    "\n",
    "\n",
    "def slid(season_id,Type_id,game_id,event):\n",
    "    df_sorted = df[df['game_id'] == int(season_slider.value+type_slider.value+id_slider.value)]\n",
    "    game_id=season_slider.value+type_slider.value+id_slider.value\n",
    "    season=(season_slider.value)\n",
    "    \n",
    "    for ind in df_sorted.index: \n",
    "        if df_sorted['team_home'][ind] :\n",
    "            home_team = df_sorted['team_tri_code'][ind]\n",
    "        else:\n",
    "            away_team = df_sorted['team_tri_code'][ind]\n",
    "    if int(type_slider.value) == 2:\n",
    "        types='regular'\n",
    "    else:\n",
    "        types='playoffs'\n",
    "    gameid1=season_slider.value+type_slider.value+id_slider.value\n",
    "    shootouts = df_sorted[df_sorted['period'] == 5]\n",
    "    is_home = shootouts['team_tri_code']==home_team\n",
    "    is_away = shootouts['team_tri_code']==away_team\n",
    "    is_goal =shootouts['event_type']=='GOAL'\n",
    "    is_shot =shootouts['event_type']=='SHOT'\n",
    "    shootoutshomegoals = shootouts[(is_home) & (is_goal)]\n",
    "    shootoutsawaygoals = shootouts[(is_away) & (is_goal)]\n",
    "    shootoutshomeshots = shootouts[(is_home) & (is_shot)]\n",
    "    shootoutsawayshots = shootouts[(is_away) & (is_shot)]\n",
    "    \n",
    "    f = open('data/'+season+'/'+types+'/'+gameid1+'.json')\n",
    "    test_data = json.load(f)\n",
    "    td_home = test_data[\"liveData\"][\"boxscore\"][\"teams\"][\"home\"][\"teamStats\"][\"teamSkaterStats\"]\n",
    "    td_away = test_data[\"liveData\"][\"boxscore\"][\"teams\"][\"away\"][\"teamStats\"][\"teamSkaterStats\"]\n",
    "    goals_away=td_away[\"goals\"]\n",
    "    shots_away=td_away[\"shots\"]\n",
    "    goals_home=td_home[\"goals\"]\n",
    "    shots_home=td_home[\"shots\"]\n",
    "    D = test_data[\"liveData\"][\"plays\"][\"allPlays\"][event_slider.value]\n",
    "    \n",
    "    print(df_sorted['game_start_time'].iloc[0])\n",
    "    print('Game ID:'+ df_sorted['gameid'].iloc[0]+' ; '+ home_team +  '(home) vs '+ away_team+'(away)')\n",
    "    print(tabulate([['Teams:', home_team,away_team], ['Goals:', str(goals_home),str(goals_away)],['SoG:', str(shots_home),str(shots_away)], ['SO Goals:', len(shootoutshomegoals),len(shootoutsawaygoals)], ['SO Attempts:', len(shootoutshomeshots),len(shootoutsawayshots)]], headers=['', 'Home','Away']))\n",
    "    for i in ('about','coordinates','players','result',\"team\"):\n",
    "        display(i+':', D[i])\n",
    "    x = str(event_slider.value)\n",
    "    shots = df_sorted.loc[(df_sorted.event_type.isin([\"SHOT\", \"GOAL\"]))]\n",
    "    shots= shots[shots['event_idx']==event_slider.value]\n",
    "    home_shots = shots[shots.team_tri_code == home_team]\n",
    "    away_shots = shots[shots.team_tri_code == away_team]\n",
    "\n",
    "    rink = NWHLRink(x_shift=100, y_shift=42.5, nzone={\"length\": 50})\n",
    "    ax = rink.draw()\n",
    "    rink.scatter(home_shots[\"coordinates_x\"].abs(), home_shots[\"coordinates_y\"].abs())\n",
    "    rink.scatter(200 - away_shots[\"coordinates_x\"].abs(), 85 - away_shots[\"coordinates_y\"].abs())\n",
    "\n",
    "    return \n",
    "\n",
    "widgets.interact(slid,season_id=season_slider,Type_id=type_slider,game_id=id_slider,event=event_slider)\n",
    "\n",
    "\n"
   ]
  },
  {
   "cell_type": "code",
   "execution_count": null,
   "id": "58f88857",
   "metadata": {},
   "outputs": [],
   "source": []
  },
  {
   "cell_type": "code",
   "execution_count": null,
   "id": "291ec00a",
   "metadata": {},
   "outputs": [],
   "source": []
  }
 ],
 "metadata": {
  "kernelspec": {
   "display_name": "Python 3 (ipykernel)",
   "language": "python",
   "name": "python3"
  },
  "language_info": {
   "codemirror_mode": {
    "name": "ipython",
    "version": 3
   },
   "file_extension": ".py",
   "mimetype": "text/x-python",
   "name": "python",
   "nbconvert_exporter": "python",
   "pygments_lexer": "ipython3",
   "version": "3.9.12"
  }
 },
 "nbformat": 4,
 "nbformat_minor": 5
}
