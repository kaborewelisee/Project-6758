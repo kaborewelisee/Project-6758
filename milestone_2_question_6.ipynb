{
 "cells": [
  {
   "cell_type": "code",
   "execution_count": 1,
   "id": "29c86155-6836-47f7-9b7b-e3b17ef2e233",
   "metadata": {},
   "outputs": [],
   "source": [
    "%load_ext autoreload\n",
    "%autoreload 2"
   ]
  },
  {
   "cell_type": "code",
   "execution_count": 2,
   "id": "06160bcc-d246-4765-a862-18e6ce364ad1",
   "metadata": {},
   "outputs": [],
   "source": [
    "import pandas as pd\n",
    "import numpy as np\n",
    "import milestone_2_question_4\n",
    "import milestone_2_question_6"
   ]
  },
  {
   "cell_type": "code",
   "execution_count": 8,
   "id": "abbc218b",
   "metadata": {},
   "outputs": [
    {
     "name": "stderr",
     "output_type": "stream",
     "text": [
      "/var/folders/qq/3fs3sqzs3rxgn4rv1b11z90c0000gn/T/ipykernel_2595/1834749630.py:2: DtypeWarning: Columns (18) have mixed types. Specify dtype option on import or set low_memory=False.\n",
      "  df = pd.read_csv(csv_path)\n"
     ]
    }
   ],
   "source": [
    "csv_path = './data/train-q4-3.csv'\n",
    "df = pd.read_csv(csv_path)"
   ]
  },
  {
   "cell_type": "code",
   "execution_count": 9,
   "id": "21e49e03",
   "metadata": {},
   "outputs": [],
   "source": [
    "df = milestone_2_question_6.removeInvalidData(df)\n",
    "df = milestone_2_question_6.getRequiredFeatures(df)\n",
    "df = milestone_2_question_6.transform_data(df)\n",
    "df = milestone_2_question_6.augment_data(df)"
   ]
  },
  {
   "cell_type": "code",
   "execution_count": 10,
   "id": "9a93237a",
   "metadata": {},
   "outputs": [
    {
     "name": "stdout",
     "output_type": "stream",
     "text": [
      "<class 'pandas.core.frame.DataFrame'>\n",
      "RangeIndex: 438048 entries, 0 to 438047\n",
      "Data columns (total 23 columns):\n",
      " #   Column                    Non-Null Count   Dtype  \n",
      "---  ------                    --------------   -----  \n",
      " 0   coordinates_x             438048 non-null  float64\n",
      " 1   coordinates_y             438048 non-null  float64\n",
      " 2   period                    438048 non-null  int64  \n",
      " 3   game_period_seconds       437856 non-null  float64\n",
      " 4   shot_distance             438048 non-null  float64\n",
      " 5   shot_angle                438048 non-null  float64\n",
      " 6   hand_based_shot_angle     438048 non-null  float64\n",
      " 7   is_goal                   438048 non-null  int64  \n",
      " 8   empty_net                 438048 non-null  int64  \n",
      " 9   last_coordinates_x        438048 non-null  float64\n",
      " 10  last_coordinates_y        438048 non-null  float64\n",
      " 11  time_since_last_event     438048 non-null  float64\n",
      " 12  distance_from_last_event  438048 non-null  float64\n",
      " 13  rebond                    438048 non-null  int64  \n",
      " 14  speed_from_last_event     438006 non-null  float64\n",
      " 15  shot_angle_change         438048 non-null  float64\n",
      " 16  ShotType_Backhand         438048 non-null  uint8  \n",
      " 17  ShotType_Deflected        438048 non-null  uint8  \n",
      " 18  ShotType_Slap Shot        438048 non-null  uint8  \n",
      " 19  ShotType_Snap Shot        438048 non-null  uint8  \n",
      " 20  ShotType_Tip-In           438048 non-null  uint8  \n",
      " 21  ShotType_Wrap-around      438048 non-null  uint8  \n",
      " 22  ShotType_Wrist Shot       438048 non-null  uint8  \n",
      "dtypes: float64(12), int64(4), uint8(7)\n",
      "memory usage: 56.4 MB\n"
     ]
    }
   ],
   "source": [
    "df.info()"
   ]
  },
  {
   "cell_type": "code",
   "execution_count": null,
   "id": "ad008db8",
   "metadata": {},
   "outputs": [],
   "source": []
  }
 ],
 "metadata": {
  "kernelspec": {
   "display_name": "Python 3.9.13 ('ift6758-project-conda-env')",
   "language": "python",
   "name": "python3"
  },
  "language_info": {
   "codemirror_mode": {
    "name": "ipython",
    "version": 3
   },
   "file_extension": ".py",
   "mimetype": "text/x-python",
   "name": "python",
   "nbconvert_exporter": "python",
   "pygments_lexer": "ipython3",
   "version": "3.9.13"
  },
  "vscode": {
   "interpreter": {
    "hash": "b6281126988a92bd72ce99b8ec7c5532b700dec2bdd1bfe688c4bd0104a24a1e"
   }
  }
 },
 "nbformat": 4,
 "nbformat_minor": 5
}
