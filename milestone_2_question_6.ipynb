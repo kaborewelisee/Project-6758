{
 "cells": [
  {
   "cell_type": "code",
   "execution_count": 65,
   "id": "29c86155-6836-47f7-9b7b-e3b17ef2e233",
   "metadata": {},
   "outputs": [
    {
     "name": "stdout",
     "output_type": "stream",
     "text": [
      "The autoreload extension is already loaded. To reload it, use:\n",
      "  %reload_ext autoreload\n"
     ]
    }
   ],
   "source": [
    "%load_ext autoreload\n",
    "%autoreload 2"
   ]
  },
  {
   "cell_type": "code",
   "execution_count": 66,
   "id": "06160bcc-d246-4765-a862-18e6ce364ad1",
   "metadata": {},
   "outputs": [],
   "source": [
    "import pandas as pd\n",
    "import numpy as np\n",
    "import milestone_2_question_4\n",
    "import milestone_2_question_6\n",
    "import generic_util"
   ]
  },
  {
   "cell_type": "code",
   "execution_count": 67,
   "id": "abbc218b",
   "metadata": {},
   "outputs": [
    {
     "name": "stderr",
     "output_type": "stream",
     "text": [
      "/var/folders/qq/3fs3sqzs3rxgn4rv1b11z90c0000gn/T/ipykernel_8470/1834749630.py:2: DtypeWarning: Columns (18) have mixed types. Specify dtype option on import or set low_memory=False.\n",
      "  df = pd.read_csv(csv_path)\n"
     ]
    }
   ],
   "source": [
    "csv_path = './data/train-q4-3.csv'\n",
    "df = pd.read_csv(csv_path)"
   ]
  },
  {
   "cell_type": "code",
   "execution_count": 68,
   "id": "21e49e03",
   "metadata": {},
   "outputs": [],
   "source": [
    "df = milestone_2_question_6.removeInvalidData(df)\n",
    "df = milestone_2_question_6.getRequiredFeatures(df)\n",
    "df = milestone_2_question_6.transform_data(df)\n",
    "df = milestone_2_question_6.augment_data(df)"
   ]
  },
  {
   "cell_type": "code",
   "execution_count": 64,
   "id": "9a93237a",
   "metadata": {},
   "outputs": [
    {
     "data": {
      "text/plain": [
       "Index(['coordinates_x', 'coordinates_y', 'period', 'game_period_seconds',\n",
       "       'game_elapsed_time', 'shot_distance', 'shot_angle',\n",
       "       'hand_based_shot_angle', 'is_goal', 'empty_net', 'last_coordinates_x',\n",
       "       'last_coordinates_y', 'time_since_last_event',\n",
       "       'distance_from_last_event', 'rebond', 'speed_from_last_event',\n",
       "       'shot_angle_change', 'ShotType_Backhand', 'ShotType_Deflected',\n",
       "       'ShotType_Slap Shot', 'ShotType_Snap Shot', 'ShotType_Tip-In',\n",
       "       'ShotType_Wrap-around', 'ShotType_Wrist Shot'],\n",
       "      dtype='object')"
      ]
     },
     "execution_count": 64,
     "metadata": {},
     "output_type": "execute_result"
    }
   ],
   "source": [
    "df.columns"
   ]
  },
  {
   "cell_type": "code",
   "execution_count": 70,
   "id": "f5890dc6",
   "metadata": {},
   "outputs": [],
   "source": [
    "X_train, X_test, y_train, y_test = generic_util.split_train_test(df)"
   ]
  },
  {
   "cell_type": "code",
   "execution_count": 74,
   "id": "0c2c1703",
   "metadata": {},
   "outputs": [
    {
     "data": {
      "text/plain": [
       "Index(['coordinates_x', 'coordinates_y', 'period', 'game_period_seconds',\n",
       "       'game_elapsed_time', 'shot_distance', 'shot_angle',\n",
       "       'hand_based_shot_angle', 'empty_net', 'last_coordinates_x',\n",
       "       'last_coordinates_y', 'time_since_last_event',\n",
       "       'distance_from_last_event', 'rebond', 'speed_from_last_event',\n",
       "       'shot_angle_change', 'ShotType_Backhand', 'ShotType_Deflected',\n",
       "       'ShotType_Slap Shot', 'ShotType_Snap Shot', 'ShotType_Tip-In',\n",
       "       'ShotType_Wrap-around', 'ShotType_Wrist Shot'],\n",
       "      dtype='object')"
      ]
     },
     "execution_count": 74,
     "metadata": {},
     "output_type": "execute_result"
    }
   ],
   "source": [
    "X_test.columns"
   ]
  },
  {
   "cell_type": "code",
   "execution_count": 72,
   "id": "6054635f",
   "metadata": {},
   "outputs": [
    {
     "name": "stdout",
     "output_type": "stream",
     "text": [
      "87602\n",
      "32916\n"
     ]
    }
   ],
   "source": [
    "y_test\n",
    "print(len(y_test))\n",
    "print(np.count_nonzero(y_test))"
   ]
  },
  {
   "cell_type": "code",
   "execution_count": 47,
   "id": "8988790e",
   "metadata": {},
   "outputs": [
    {
     "data": {
      "text/plain": [
       "187.85632808079689"
      ]
     },
     "execution_count": 47,
     "metadata": {},
     "output_type": "execute_result"
    }
   ],
   "source": []
  }
 ],
 "metadata": {
  "kernelspec": {
   "display_name": "Python 3.9.13 ('ift6758-project-conda-env')",
   "language": "python",
   "name": "python3"
  },
  "language_info": {
   "codemirror_mode": {
    "name": "ipython",
    "version": 3
   },
   "file_extension": ".py",
   "mimetype": "text/x-python",
   "name": "python",
   "nbconvert_exporter": "python",
   "pygments_lexer": "ipython3",
   "version": "3.9.13"
  },
  "vscode": {
   "interpreter": {
    "hash": "b6281126988a92bd72ce99b8ec7c5532b700dec2bdd1bfe688c4bd0104a24a1e"
   }
  }
 },
 "nbformat": 4,
 "nbformat_minor": 5
}
